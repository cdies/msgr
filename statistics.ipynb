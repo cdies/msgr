{
 "cells": [
  {
   "cell_type": "code",
   "execution_count": 1,
   "metadata": {},
   "outputs": [],
   "source": [
    "import pandas as pd\n",
    "import numpy as np\n",
    "import sqlite3\n",
    "import requests\n",
    "from tqdm.notebook import tqdm\n",
    "import matplotlib.pyplot as plt\n",
    "import seaborn as sns\n",
    "%matplotlib inline\n",
    "\n",
    "sns.set(rc={'figure.figsize':(20, 5)})"
   ]
  },
  {
   "cell_type": "code",
   "execution_count": 188,
   "metadata": {},
   "outputs": [],
   "source": [
    "def geocoder_district(lon, lat, key):\n",
    "    url = 'https://geocode-maps.yandex.ru/1.x'\n",
    "    \n",
    "    params = {'format':'json', 'apikey': key, 'geocode': str(lon) + ',' + str(lat), 'kind':'district'}\n",
    "    response = requests.get(url, params=params)\n",
    "    \n",
    "    # Округ\n",
    "    district = response.json()[\"response\"][\"GeoObjectCollection\"][\"featureMember\"][0][\"GeoObject\"] \\\n",
    "        [\"metaDataProperty\"][\"GeocoderMetaData\"][\"AddressDetails\"][\"Country\"][\"AdministrativeArea\"] \\\n",
    "        [\"Locality\"][\"DependentLocality\"][\"DependentLocalityName\"]\n",
    "    \n",
    "    # Район\n",
    "    #sub_district = response.json()[\"response\"][\"GeoObjectCollection\"][\"featureMember\"][0][\"GeoObject\"] \\\n",
    "    #    [\"metaDataProperty\"][\"GeocoderMetaData\"][\"AddressDetails\"][\"Country\"][\"AdministrativeArea\"] \\\n",
    "    #    [\"Locality\"][\"DependentLocality\"][\"DependentLocality\"][\"DependentLocalityName\"]\n",
    "    \n",
    "    return district"
   ]
  },
  {
   "cell_type": "code",
   "execution_count": 174,
   "metadata": {},
   "outputs": [],
   "source": [
    "df = pd.read_csv('yandex.map.csv')"
   ]
  },
  {
   "cell_type": "code",
   "execution_count": null,
   "metadata": {},
   "outputs": [],
   "source": [
    "df = df.rename({'Placemark number': 'Rooms'}, axis=1)"
   ]
  },
  {
   "cell_type": "code",
   "execution_count": 175,
   "metadata": {},
   "outputs": [],
   "source": [
    "# Удалим комнаты, нужны только квартиры\n",
    "del_rooms = df['Description'].apply(lambda x: True if 'комнат' not in x else False)\n",
    "df = df[del_rooms]"
   ]
  },
  {
   "cell_type": "code",
   "execution_count": 176,
   "metadata": {},
   "outputs": [],
   "source": [
    "df['Year'] = df['Description'].apply(lambda x: x[:4])\n",
    "\n",
    "df['Price'] = df['Label'].apply(lambda x: x.split(',')[0].replace('.',''))\n",
    "df = df[df['Price'].apply(lambda x: x.isdigit())]\n",
    "\n",
    "df['Year'] = df['Year'].astype(int)\n",
    "df['Price'] = df['Price'].astype(int)"
   ]
  },
  {
   "cell_type": "code",
   "execution_count": 198,
   "metadata": {},
   "outputs": [
    {
     "data": {
      "application/vnd.jupyter.widget-view+json": {
       "model_id": "36258c4b70ac4d06aa36559b8bd30365",
       "version_major": 2,
       "version_minor": 0
      },
      "text/plain": [
       "HBox(children=(FloatProgress(value=1.0, bar_style='info', max=1.0), HTML(value='')))"
      ]
     },
     "metadata": {},
     "output_type": "display_data"
    },
    {
     "name": "stdout",
     "output_type": "stream",
     "text": [
      "Error: 120 2018-12-26: 3807000 | 3807000\n",
      "г.москва,г.щербинка,симферопольскаяул.,д.4а,1ком., пл. 30.1, кв. 11\n",
      "\n"
     ]
    }
   ],
   "source": [
    "df['District'] = ''\n",
    "\n",
    "with open('yandex.key.txt', 'r') as f:\n",
    "    key = f.read()\n",
    "\n",
    "for i, row in tqdm(df.iterrows()):\n",
    "    try:\n",
    "        df.loc[i, 'District'] = geocoder_district(df.loc[i,'Longitude'], df.loc[i,'Latitude'], key)\n",
    "    except:\n",
    "        print('Error:',i, df.loc[i, 'Description'])\n",
    "        df.loc[i, 'District'] = 'Error'\n",
    "\n",
    "df = df[df['District'] != 'Error']"
   ]
  },
  {
   "cell_type": "code",
   "execution_count": 250,
   "metadata": {},
   "outputs": [],
   "source": [
    "mkad = {'Северный административный округ':'САО',\n",
    "        'Северо-Западный административный округ':'СЗАО',\n",
    "        'Восточный административный округ':'ВАО',\n",
    "        'Юго-Восточный административный округ':'ЮВАО',\n",
    "        'Северо-Восточный административный округ':'СВАО',\n",
    "        'Западный административный округ':'ЗАО',\n",
    "        'Центральный административный округ':'ЦАО',\n",
    "        'Юго-Западный административный округ':'ЮЗАО',\n",
    "        'Южный административный округ':'ЮАО'}\n",
    "\n",
    "df = df[df['District'].isin(mkad.keys())]\n",
    "df['District'] = df['District'].map(mkad)"
   ]
  },
  {
   "cell_type": "code",
   "execution_count": null,
   "metadata": {},
   "outputs": [],
   "source": []
  },
  {
   "cell_type": "code",
   "execution_count": 256,
   "metadata": {},
   "outputs": [],
   "source": [
    "df.to_csv('stats.csv', index=False)"
   ]
  },
  {
   "cell_type": "code",
   "execution_count": 2,
   "metadata": {},
   "outputs": [],
   "source": [
    "df = pd.read_csv('stats.csv')"
   ]
  },
  {
   "cell_type": "code",
   "execution_count": 3,
   "metadata": {},
   "outputs": [
    {
     "data": {
      "text/html": [
       "<div>\n",
       "<style scoped>\n",
       "    .dataframe tbody tr th:only-of-type {\n",
       "        vertical-align: middle;\n",
       "    }\n",
       "\n",
       "    .dataframe tbody tr th {\n",
       "        vertical-align: top;\n",
       "    }\n",
       "\n",
       "    .dataframe thead th {\n",
       "        text-align: right;\n",
       "    }\n",
       "</style>\n",
       "<table border=\"1\" class=\"dataframe\">\n",
       "  <thead>\n",
       "    <tr style=\"text-align: right;\">\n",
       "      <th></th>\n",
       "      <th>Latitude</th>\n",
       "      <th>Longitude</th>\n",
       "      <th>Description</th>\n",
       "      <th>Label</th>\n",
       "      <th>Rooms</th>\n",
       "      <th>Year</th>\n",
       "      <th>Price</th>\n",
       "      <th>District</th>\n",
       "    </tr>\n",
       "  </thead>\n",
       "  <tbody>\n",
       "    <tr>\n",
       "      <th>0</th>\n",
       "      <td>55.783286</td>\n",
       "      <td>37.558589</td>\n",
       "      <td>2019-03-27: 11991000 | 12710460\\nг.москва,1-йб...</td>\n",
       "      <td>12.710.460, 2019, 1</td>\n",
       "      <td>2</td>\n",
       "      <td>2019</td>\n",
       "      <td>12710460</td>\n",
       "      <td>САО</td>\n",
       "    </tr>\n",
       "    <tr>\n",
       "      <th>1</th>\n",
       "      <td>55.816733</td>\n",
       "      <td>37.489634</td>\n",
       "      <td>2017-04-07: 9368000 | 9368000\\n2017-01-21: 936...</td>\n",
       "      <td>9.368.000, 2017, 2</td>\n",
       "      <td>2</td>\n",
       "      <td>2017</td>\n",
       "      <td>9368000</td>\n",
       "      <td>САО</td>\n",
       "    </tr>\n",
       "    <tr>\n",
       "      <th>2</th>\n",
       "      <td>55.801850</td>\n",
       "      <td>37.492967</td>\n",
       "      <td>2019-07-24: 6255000 | 6255000\\nг.москва,1-йвол...</td>\n",
       "      <td>6.255.000, 2019, 1</td>\n",
       "      <td>1</td>\n",
       "      <td>2019</td>\n",
       "      <td>6255000</td>\n",
       "      <td>СЗАО</td>\n",
       "    </tr>\n",
       "    <tr>\n",
       "      <th>3</th>\n",
       "      <td>55.751234</td>\n",
       "      <td>37.780688</td>\n",
       "      <td>2017-06-21: 6822000 | 7367760\\nг.москва,1-явла...</td>\n",
       "      <td>7.367.760, 2017, 1</td>\n",
       "      <td>2</td>\n",
       "      <td>2017</td>\n",
       "      <td>7367760</td>\n",
       "      <td>ВАО</td>\n",
       "    </tr>\n",
       "    <tr>\n",
       "      <th>4</th>\n",
       "      <td>55.713207</td>\n",
       "      <td>37.795151</td>\n",
       "      <td>2018-12-26: 6447000 | 8187690\\nг.москва,1-янов...</td>\n",
       "      <td>8.187.690, 2018, 1</td>\n",
       "      <td>2</td>\n",
       "      <td>2018</td>\n",
       "      <td>8187690</td>\n",
       "      <td>ЮВАО</td>\n",
       "    </tr>\n",
       "  </tbody>\n",
       "</table>\n",
       "</div>"
      ],
      "text/plain": [
       "    Latitude  Longitude                                        Description  \\\n",
       "0  55.783286  37.558589  2019-03-27: 11991000 | 12710460\\nг.москва,1-йб...   \n",
       "1  55.816733  37.489634  2017-04-07: 9368000 | 9368000\\n2017-01-21: 936...   \n",
       "2  55.801850  37.492967  2019-07-24: 6255000 | 6255000\\nг.москва,1-йвол...   \n",
       "3  55.751234  37.780688  2017-06-21: 6822000 | 7367760\\nг.москва,1-явла...   \n",
       "4  55.713207  37.795151  2018-12-26: 6447000 | 8187690\\nг.москва,1-янов...   \n",
       "\n",
       "                 Label  Rooms  Year     Price District  \n",
       "0  12.710.460, 2019, 1      2  2019  12710460      САО  \n",
       "1   9.368.000, 2017, 2      2  2017   9368000      САО  \n",
       "2   6.255.000, 2019, 1      1  2019   6255000     СЗАО  \n",
       "3   7.367.760, 2017, 1      2  2017   7367760      ВАО  \n",
       "4   8.187.690, 2018, 1      2  2018   8187690     ЮВАО  "
      ]
     },
     "execution_count": 3,
     "metadata": {},
     "output_type": "execute_result"
    }
   ],
   "source": [
    "df.head()"
   ]
  },
  {
   "cell_type": "code",
   "execution_count": null,
   "metadata": {},
   "outputs": [],
   "source": []
  },
  {
   "cell_type": "code",
   "execution_count": 4,
   "metadata": {},
   "outputs": [
    {
     "data": {
      "text/plain": [
       "397"
      ]
     },
     "execution_count": 4,
     "metadata": {},
     "output_type": "execute_result"
    }
   ],
   "source": [
    "# Всего квартир:\n",
    "len(df)"
   ]
  },
  {
   "cell_type": "code",
   "execution_count": 5,
   "metadata": {},
   "outputs": [
    {
     "data": {
      "image/png": "[encoded data removed]",
      "text/plain": [
       "<Figure size 1440x360 with 1 Axes>"
      ]
     },
     "metadata": {},
     "output_type": "display_data"
    }
   ],
   "source": [
    "plt.ticklabel_format(axis='y', style='sci', scilimits=(6,6))\n",
    "ax = sns.barplot(x=\"Rooms\", y=\"Price\", hue=\"Year\", data=df, estimator=np.mean, ci=None)\n",
    "ax.set(xlabel='Кол-во комнат', ylabel='Цена, млн. рублей');"
   ]
  },
  {
   "cell_type": "code",
   "execution_count": null,
   "metadata": {},
   "outputs": [],
   "source": []
  },
  {
   "cell_type": "code",
   "execution_count": 6,
   "metadata": {},
   "outputs": [
    {
     "data": {
      "text/plain": [
       "218"
      ]
     },
     "execution_count": 6,
     "metadata": {},
     "output_type": "execute_result"
    }
   ],
   "source": [
    "len(df[df['Rooms'] == 1])"
   ]
  },
  {
   "cell_type": "code",
   "execution_count": 7,
   "metadata": {},
   "outputs": [
    {
     "data": {
      "image/png": "[encoded data removed]",
      "text/plain": [
       "<Figure size 1440x360 with 1 Axes>"
      ]
     },
     "metadata": {},
     "output_type": "display_data"
    }
   ],
   "source": [
    "plt.ticklabel_format(axis='y', style='sci', scilimits=(6,6))\n",
    "ax = sns.barplot(x=\"District\", y=\"Price\", hue=\"Year\", data=df[df['Rooms'] == 1], estimator=np.mean, ci=None, order=np.sort(df['District'].unique()) )\n",
    "ax.set(xlabel='Округ', ylabel='Цена, млн. рублей');"
   ]
  },
  {
   "cell_type": "code",
   "execution_count": null,
   "metadata": {},
   "outputs": [],
   "source": []
  },
  {
   "cell_type": "code",
   "execution_count": 8,
   "metadata": {},
   "outputs": [
    {
     "data": {
      "text/plain": [
       "159"
      ]
     },
     "execution_count": 8,
     "metadata": {},
     "output_type": "execute_result"
    }
   ],
   "source": [
    "len(df[df['Rooms'] == 2])"
   ]
  },
  {
   "cell_type": "code",
   "execution_count": 9,
   "metadata": {},
   "outputs": [
    {
     "data": {
      "image/png": "[encoded data removed]",
      "text/plain": [
       "<Figure size 1440x360 with 1 Axes>"
      ]
     },
     "metadata": {},
     "output_type": "display_data"
    }
   ],
   "source": [
    "plt.ticklabel_format(axis='y', style='sci', scilimits=(6,6))\n",
    "ax = sns.barplot(x=\"District\", y=\"Price\", hue=\"Year\", data=df[df['Rooms'] == 2], estimator=np.mean, ci=None, order=np.sort(df['District'].unique()) )\n",
    "ax.set(xlabel='Округ', ylabel='Цена, млн. рублей');"
   ]
  },
  {
   "cell_type": "code",
   "execution_count": null,
   "metadata": {},
   "outputs": [],
   "source": []
  },
  {
   "cell_type": "code",
   "execution_count": 10,
   "metadata": {},
   "outputs": [
    {
     "data": {
      "text/plain": [
       "20"
      ]
     },
     "execution_count": 10,
     "metadata": {},
     "output_type": "execute_result"
    }
   ],
   "source": [
    "len(df[df['Rooms'] == 3])"
   ]
  },
  {
   "cell_type": "code",
   "execution_count": 11,
   "metadata": {},
   "outputs": [
    {
     "data": {
      "image/png": "[encoded data removed]",
      "text/plain": [
       "<Figure size 1440x360 with 1 Axes>"
      ]
     },
     "metadata": {},
     "output_type": "display_data"
    }
   ],
   "source": [
    "plt.ticklabel_format(axis='y', style='sci', scilimits=(6,6))\n",
    "ax = sns.barplot(x=\"District\", y=\"Price\", hue=\"Year\", data=df[df['Rooms'] == 3], estimator=np.mean, ci=None, order=np.sort(df['District'].unique()) )\n",
    "ax.set(xlabel='Округ', ylabel='Цена, млн. рублей');"
   ]
  },
  {
   "cell_type": "code",
   "execution_count": null,
   "metadata": {},
   "outputs": [],
   "source": []
  },
  {
   "cell_type": "code",
   "execution_count": null,
   "metadata": {},
   "outputs": [],
   "source": []
  }
 ],
 "metadata": {
  "kernelspec": {
   "display_name": "Python 3",
   "language": "python",
   "name": "python3"
  },
  "language_info": {
   "codemirror_mode": {
    "name": "ipython",
    "version": 3
   },
   "file_extension": ".py",
   "mimetype": "text/x-python",
   "name": "python",
   "nbconvert_exporter": "python",
   "pygments_lexer": "ipython3",
   "version": "3.7.3"
  }
 },
 "nbformat": 4,
 "nbformat_minor": 4
}
